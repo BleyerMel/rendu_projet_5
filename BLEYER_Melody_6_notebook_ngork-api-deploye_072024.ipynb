{
 "cells": [
  {
   "cell_type": "code",
   "execution_count": 1,
   "metadata": {},
   "outputs": [
    {
     "name": "stdout",
     "output_type": "stream",
     "text": [
      "{'prediction': ['python']}\n"
     ]
    }
   ],
   "source": [
    "import requests\n",
    "\n",
    "data = \"[{\\\"Title\\\": \\\"help! my function not working\\\", \\\"Body\\\": \\\"i need help with my python function\\\"}]\"\n",
    "response = requests.get(\"https://25ad-2001-861-5bc1-90e0-8c87-d9f3-64bd-63b2.ngrok-free.app/predict\", params={\"data\": data})\n",
    "print(response.json())\n"
   ]
  }
 ],
 "metadata": {
  "kernelspec": {
   "display_name": "opclr_bis",
   "language": "python",
   "name": "python3"
  },
  "language_info": {
   "codemirror_mode": {
    "name": "ipython",
    "version": 3
   },
   "file_extension": ".py",
   "mimetype": "text/x-python",
   "name": "python",
   "nbconvert_exporter": "python",
   "pygments_lexer": "ipython3",
   "version": "3.9.10"
  }
 },
 "nbformat": 4,
 "nbformat_minor": 2
}
